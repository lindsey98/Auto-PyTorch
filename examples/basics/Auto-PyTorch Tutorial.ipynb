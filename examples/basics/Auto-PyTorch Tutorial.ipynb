{
 "cells": [
  {
   "cell_type": "code",
   "execution_count": 1,
   "metadata": {},
   "outputs": [
    {
     "name": "stderr",
     "output_type": "stream",
     "text": [
      "/home/l/liny/anaconda3/envs/automl/lib/python3.7/site-packages/sklearn/utils/deprecation.py:143: FutureWarning: The sklearn.ensemble.forest module is  deprecated in version 0.22 and will be removed in version 0.24. The corresponding classes / functions should instead be imported from sklearn.ensemble. Anything that cannot be imported from sklearn.ensemble is now part of the private API.\n",
      "  warnings.warn(message, FutureWarning)\n"
     ]
    }
   ],
   "source": [
    "import unittest\n",
    "import torch\n",
    "import torch.nn as nn\n",
    "\n",
    "from autoPyTorch.pipeline.base.pipeline import Pipeline\n",
    "from autoPyTorch.components.networks.image import ConvCusNet\n",
    "from autoPyTorch.pipeline.nodes.image.network_selector_datasetinfo import NetworkSelectorDatasetInfo\n",
    "from autoPyTorch.pipeline.nodes.image.create_dataset_info import DataSetInfo"
   ]
  },
  {
   "cell_type": "code",
   "execution_count": null,
   "metadata": {},
   "outputs": [],
   "source": [
    "pipeline = Pipeline([\n",
    "    NetworkSelectorDatasetInfo()\n",
    "])\n",
    "dataset_info = DataSetInfo()\n",
    "selector = pipeline[NetworkSelectorDatasetInfo.get_name()]\n",
    "selector.add_network(\"convnet_customize\", ConvCusNet)\n",
    "selector.add_final_activation('none', nn.Sequential())\n",
    "\n",
    "pipeline_config = pipeline.get_pipeline_config()\n",
    "pipeline_config[\"random_seed\"] = 42\n",
    "hyper_config = pipeline.get_hyperparameter_search_space().sample_configuration()\n",
    "\n",
    "# pipeline.fit_pipeline(hyperparameter_config=hyper_config, pipeline_config=pipeline_config, \n",
    "#                         X=torch.rand(1,3,32,32), Y=torch.rand(1, 1))"
   ]
  },
  {
   "cell_type": "markdown",
   "metadata": {},
   "source": [
    "# Image classification\n",
    "\n",
    "There are classes for featurized tasks (classification, multi-label classification, regression) and image tasks (classification). You can import them via:"
   ]
  },
  {
   "cell_type": "code",
   "execution_count": 12,
   "metadata": {
    "scrolled": true
   },
   "outputs": [],
   "source": [
    "from autoPyTorch import AutoNetImageClassification, AutoNetClassification"
   ]
  },
  {
   "cell_type": "code",
   "execution_count": 13,
   "metadata": {},
   "outputs": [],
   "source": [
    "# Other imports for later usage\n",
    "import pandas as pd\n",
    "import numpy as np\n",
    "import os as os\n",
    "import openml\n",
    "import json"
   ]
  },
  {
   "cell_type": "code",
   "execution_count": 25,
   "metadata": {},
   "outputs": [],
   "source": [
    "from autoPyTorch.utils.hyperparameter_search_space_update import HyperparameterSearchSpaceUpdates\n",
    "\n",
    "\n",
    "def get_search_space_updates():\n",
    "    \"\"\"\n",
    "    Search space updates to the task can be added using HyperparameterSearchSpaceUpdates\n",
    "    Returns:\n",
    "        HyperparameterSearchSpaceUpdates\n",
    "    \"\"\"\n",
    "    updates = HyperparameterSearchSpaceUpdates()\n",
    "    updates.append(node_name=\"NetworkSelector\",\n",
    "                                hyperparameter=\"convnet_customize:activation\",\n",
    "                                value_range=[\"relu\"])\n",
    "\n",
    "    updates.append(node_name=\"NetworkSelector\",\n",
    "                                hyperparameter=\"convnet_customize:conv_init_filters\",\n",
    "                                value_range=[8, 64],\n",
    "                                log=True)\n",
    "    updates.append(node_name=\"NetworkSelector\",\n",
    "                                hyperparameter=\"convnet_customize:conv_second_filters\",\n",
    "                                value_range=[8, 64],\n",
    "                                log=True)\n",
    "\n",
    "    updates.append(node_name=\"NetworkSelector\",\n",
    "                                hyperparameter=\"convnet_customize:conv_third_filters\",\n",
    "                                value_range=[8, 64],\n",
    "                                log=True)\n",
    "    return updates"
   ]
  },
  {
   "cell_type": "markdown",
   "metadata": {},
   "source": [
    "Here are some useful methods provided by the API:"
   ]
  },
  {
   "cell_type": "code",
   "execution_count": 26,
   "metadata": {
    "code_folding": []
   },
   "outputs": [],
   "source": [
    "autonet_config = {\n",
    "    \"budget_type\" : \"epochs\",\n",
    "    \"images_shape\": [3,32,32],\n",
    "    }\n",
    "\n",
    "\n",
    "\n",
    "autonet = AutoNetImageClassification(config_preset=\"tiny_cs\", \n",
    "                                     result_logger_dir=\"logs/\",\n",
    "                                     hyperparameter_search_space_updates=get_search_space_updates(),\n",
    "                                     **autonet_config\n",
    "                                    )"
   ]
  },
  {
   "cell_type": "code",
   "execution_count": 27,
   "metadata": {
    "scrolled": true
   },
   "outputs": [
    {
     "ename": "KeyError",
     "evalue": "'NetworkSelectorDatasetInfo:network'",
     "output_type": "error",
     "traceback": [
      "\u001b[0;31m---------------------------------------------------------------------------\u001b[0m",
      "\u001b[0;31mKeyError\u001b[0m                                  Traceback (most recent call last)",
      "\u001b[0;32m<ipython-input-27-71d5f81a4f88>\u001b[0m in \u001b[0;36m<module>\u001b[0;34m\u001b[0m\n\u001b[1;32m      3\u001b[0m \u001b[0;34m\u001b[0m\u001b[0m\n\u001b[1;32m      4\u001b[0m \u001b[0;31m# Get the ConfigSpace object with all hyperparameters, conditions, default values and default ranges\u001b[0m\u001b[0;34m\u001b[0m\u001b[0;34m\u001b[0m\u001b[0;34m\u001b[0m\u001b[0m\n\u001b[0;32m----> 5\u001b[0;31m \u001b[0mhyperparameter_search_space\u001b[0m \u001b[0;34m=\u001b[0m \u001b[0mautonet\u001b[0m\u001b[0;34m.\u001b[0m\u001b[0mget_hyperparameter_search_space\u001b[0m\u001b[0;34m(\u001b[0m\u001b[0;34m)\u001b[0m\u001b[0;34m\u001b[0m\u001b[0;34m\u001b[0m\u001b[0m\n\u001b[0m\u001b[1;32m      6\u001b[0m \u001b[0;34m\u001b[0m\u001b[0m\n\u001b[1;32m      7\u001b[0m \u001b[0;31m# Print all possible configuration options\u001b[0m\u001b[0;34m\u001b[0m\u001b[0;34m\u001b[0m\u001b[0;34m\u001b[0m\u001b[0m\n",
      "\u001b[0;32m~/anaconda3/envs/automl/lib/python3.7/site-packages/autoPyTorch-0.0.2-py3.7.egg/autoPyTorch/core/api.py\u001b[0m in \u001b[0;36mget_hyperparameter_search_space\u001b[0;34m(self, X_train, Y_train, X_valid, Y_valid, **autonet_config)\u001b[0m\n\u001b[1;32m    102\u001b[0m                                                  Y_valid=Y_valid)[\"dataset_info\"]\n\u001b[1;32m    103\u001b[0m \u001b[0;34m\u001b[0m\u001b[0m\n\u001b[0;32m--> 104\u001b[0;31m         \u001b[0;32mreturn\u001b[0m \u001b[0mself\u001b[0m\u001b[0;34m.\u001b[0m\u001b[0mpipeline\u001b[0m\u001b[0;34m.\u001b[0m\u001b[0mget_hyperparameter_search_space\u001b[0m\u001b[0;34m(\u001b[0m\u001b[0mdataset_info\u001b[0m\u001b[0;34m=\u001b[0m\u001b[0mdataset_info\u001b[0m\u001b[0;34m,\u001b[0m \u001b[0;34m**\u001b[0m\u001b[0mpipeline_config\u001b[0m\u001b[0;34m)\u001b[0m\u001b[0;34m\u001b[0m\u001b[0;34m\u001b[0m\u001b[0m\n\u001b[0m\u001b[1;32m    105\u001b[0m \u001b[0;34m\u001b[0m\u001b[0m\n\u001b[1;32m    106\u001b[0m     \u001b[0;34m@\u001b[0m\u001b[0mclassmethod\u001b[0m\u001b[0;34m\u001b[0m\u001b[0;34m\u001b[0m\u001b[0m\n",
      "\u001b[0;32m~/anaconda3/envs/automl/lib/python3.7/site-packages/autoPyTorch-0.0.2-py3.7.egg/autoPyTorch/pipeline/base/pipeline.py\u001b[0m in \u001b[0;36mget_hyperparameter_search_space\u001b[0;34m(self, dataset_info, **pipeline_config)\u001b[0m\n\u001b[1;32m     98\u001b[0m         \u001b[0;32mif\u001b[0m \u001b[0;34m\"hyperparameter_search_space_updates\"\u001b[0m \u001b[0;32min\u001b[0m \u001b[0mpipeline_config\u001b[0m \u001b[0;32mand\u001b[0m \u001b[0mpipeline_config\u001b[0m\u001b[0;34m[\u001b[0m\u001b[0;34m\"hyperparameter_search_space_updates\"\u001b[0m\u001b[0;34m]\u001b[0m \u001b[0;32mis\u001b[0m \u001b[0;32mnot\u001b[0m \u001b[0;32mNone\u001b[0m\u001b[0;34m:\u001b[0m\u001b[0;34m\u001b[0m\u001b[0;34m\u001b[0m\u001b[0m\n\u001b[1;32m     99\u001b[0m             \u001b[0;32massert\u001b[0m \u001b[0misinstance\u001b[0m\u001b[0;34m(\u001b[0m\u001b[0mpipeline_config\u001b[0m\u001b[0;34m[\u001b[0m\u001b[0;34m\"hyperparameter_search_space_updates\"\u001b[0m\u001b[0;34m]\u001b[0m\u001b[0;34m,\u001b[0m \u001b[0mHyperparameterSearchSpaceUpdates\u001b[0m\u001b[0;34m)\u001b[0m\u001b[0;34m\u001b[0m\u001b[0;34m\u001b[0m\u001b[0m\n\u001b[0;32m--> 100\u001b[0;31m             \u001b[0mpipeline_config\u001b[0m\u001b[0;34m[\u001b[0m\u001b[0;34m\"hyperparameter_search_space_updates\"\u001b[0m\u001b[0;34m]\u001b[0m\u001b[0;34m.\u001b[0m\u001b[0mapply\u001b[0m\u001b[0;34m(\u001b[0m\u001b[0mself\u001b[0m\u001b[0;34m,\u001b[0m \u001b[0mpipeline_config\u001b[0m\u001b[0;34m)\u001b[0m\u001b[0;34m\u001b[0m\u001b[0;34m\u001b[0m\u001b[0m\n\u001b[0m\u001b[1;32m    101\u001b[0m \u001b[0;34m\u001b[0m\u001b[0m\n\u001b[1;32m    102\u001b[0m         \u001b[0;31m# initialize the config space\u001b[0m\u001b[0;34m\u001b[0m\u001b[0;34m\u001b[0m\u001b[0;34m\u001b[0m\u001b[0m\n",
      "\u001b[0;32m~/anaconda3/envs/automl/lib/python3.7/site-packages/autoPyTorch-0.0.2-py3.7.egg/autoPyTorch/utils/hyperparameter_search_space_update.py\u001b[0m in \u001b[0;36mapply\u001b[0;34m(self, pipeline, pipeline_config)\u001b[0m\n\u001b[1;32m     21\u001b[0m     \u001b[0;32mdef\u001b[0m \u001b[0mapply\u001b[0m\u001b[0;34m(\u001b[0m\u001b[0mself\u001b[0m\u001b[0;34m,\u001b[0m \u001b[0mpipeline\u001b[0m\u001b[0;34m,\u001b[0m \u001b[0mpipeline_config\u001b[0m\u001b[0;34m)\u001b[0m\u001b[0;34m:\u001b[0m\u001b[0;34m\u001b[0m\u001b[0;34m\u001b[0m\u001b[0m\n\u001b[1;32m     22\u001b[0m         \u001b[0;32mfor\u001b[0m \u001b[0mupdate\u001b[0m \u001b[0;32min\u001b[0m \u001b[0mself\u001b[0m\u001b[0;34m.\u001b[0m\u001b[0mupdates\u001b[0m\u001b[0;34m:\u001b[0m\u001b[0;34m\u001b[0m\u001b[0;34m\u001b[0m\u001b[0m\n\u001b[0;32m---> 23\u001b[0;31m             \u001b[0mupdate\u001b[0m\u001b[0;34m.\u001b[0m\u001b[0mapply\u001b[0m\u001b[0;34m(\u001b[0m\u001b[0mpipeline\u001b[0m\u001b[0;34m,\u001b[0m \u001b[0mpipeline_config\u001b[0m\u001b[0;34m)\u001b[0m\u001b[0;34m\u001b[0m\u001b[0;34m\u001b[0m\u001b[0m\n\u001b[0m\u001b[1;32m     24\u001b[0m \u001b[0;34m\u001b[0m\u001b[0m\n\u001b[1;32m     25\u001b[0m     \u001b[0;32mdef\u001b[0m \u001b[0mappend\u001b[0m\u001b[0;34m(\u001b[0m\u001b[0mself\u001b[0m\u001b[0;34m,\u001b[0m \u001b[0mnode_name\u001b[0m\u001b[0;34m,\u001b[0m \u001b[0mhyperparameter\u001b[0m\u001b[0;34m,\u001b[0m \u001b[0mvalue_range\u001b[0m\u001b[0;34m,\u001b[0m \u001b[0mlog\u001b[0m\u001b[0;34m=\u001b[0m\u001b[0;32mFalse\u001b[0m\u001b[0;34m)\u001b[0m\u001b[0;34m:\u001b[0m\u001b[0;34m\u001b[0m\u001b[0;34m\u001b[0m\u001b[0m\n",
      "\u001b[0;32m~/anaconda3/envs/automl/lib/python3.7/site-packages/autoPyTorch-0.0.2-py3.7.egg/autoPyTorch/utils/hyperparameter_search_space_update.py\u001b[0m in \u001b[0;36mapply\u001b[0;34m(self, pipeline, pipeline_config)\u001b[0m\n\u001b[1;32m     11\u001b[0m \u001b[0;34m\u001b[0m\u001b[0m\n\u001b[1;32m     12\u001b[0m     \u001b[0;32mdef\u001b[0m \u001b[0mapply\u001b[0m\u001b[0;34m(\u001b[0m\u001b[0mself\u001b[0m\u001b[0;34m,\u001b[0m \u001b[0mpipeline\u001b[0m\u001b[0;34m,\u001b[0m \u001b[0mpipeline_config\u001b[0m\u001b[0;34m)\u001b[0m\u001b[0;34m:\u001b[0m\u001b[0;34m\u001b[0m\u001b[0;34m\u001b[0m\u001b[0m\n\u001b[0;32m---> 13\u001b[0;31m         pipeline[self.node_name]._apply_search_space_update(name=self.hyperparameter,\n\u001b[0m\u001b[1;32m     14\u001b[0m                                                             \u001b[0mnew_value_range\u001b[0m\u001b[0;34m=\u001b[0m\u001b[0mself\u001b[0m\u001b[0;34m.\u001b[0m\u001b[0mvalue_range\u001b[0m\u001b[0;34m,\u001b[0m\u001b[0;34m\u001b[0m\u001b[0;34m\u001b[0m\u001b[0m\n\u001b[1;32m     15\u001b[0m                                                             log=self.log)\n",
      "\u001b[0;32m~/anaconda3/envs/automl/lib/python3.7/site-packages/autoPyTorch-0.0.2-py3.7.egg/autoPyTorch/pipeline/base/pipeline.py\u001b[0m in \u001b[0;36m__getitem__\u001b[0;34m(self, key)\u001b[0m\n\u001b[1;32m     30\u001b[0m \u001b[0;34m\u001b[0m\u001b[0m\n\u001b[1;32m     31\u001b[0m     \u001b[0;32mdef\u001b[0m \u001b[0m__getitem__\u001b[0m\u001b[0;34m(\u001b[0m\u001b[0mself\u001b[0m\u001b[0;34m,\u001b[0m \u001b[0mkey\u001b[0m\u001b[0;34m)\u001b[0m\u001b[0;34m:\u001b[0m\u001b[0;34m\u001b[0m\u001b[0;34m\u001b[0m\u001b[0m\n\u001b[0;32m---> 32\u001b[0;31m         \u001b[0;32mreturn\u001b[0m \u001b[0mself\u001b[0m\u001b[0;34m.\u001b[0m\u001b[0m_pipeline_nodes\u001b[0m\u001b[0;34m[\u001b[0m\u001b[0mkey\u001b[0m\u001b[0;34m]\u001b[0m\u001b[0;34m\u001b[0m\u001b[0;34m\u001b[0m\u001b[0m\n\u001b[0m\u001b[1;32m     33\u001b[0m \u001b[0;34m\u001b[0m\u001b[0m\n\u001b[1;32m     34\u001b[0m     \u001b[0;32mdef\u001b[0m \u001b[0m__contains__\u001b[0m\u001b[0;34m(\u001b[0m\u001b[0mself\u001b[0m\u001b[0;34m,\u001b[0m \u001b[0mkey\u001b[0m\u001b[0;34m)\u001b[0m\u001b[0;34m:\u001b[0m\u001b[0;34m\u001b[0m\u001b[0;34m\u001b[0m\u001b[0m\n",
      "\u001b[0;31mKeyError\u001b[0m: 'NetworkSelectorDatasetInfo:network'"
     ]
    }
   ],
   "source": [
    "# Get the current configuration as dict\n",
    "current_configuration = autonet.get_current_autonet_config()\n",
    "\n",
    "# Get the ConfigSpace object with all hyperparameters, conditions, default values and default ranges\n",
    "hyperparameter_search_space = autonet.get_hyperparameter_search_space()\n",
    "\n",
    "# Print all possible configuration options \n",
    "autonet.print_help()"
   ]
  },
  {
   "cell_type": "markdown",
   "metadata": {},
   "source": [
    "***fit*** is used to search for a good configuration by fitting configurations chosen by the algorithm (by default BOHB). The incumbent configuration is then returned and stored in the class.\n",
    "\n",
    "We recommend to have a look at the possible configuration options first. Some of the most important options allow you to set the budget type (epochs or time), run id and task id for cluster usage, tensorboard logging, seed and more.\n",
    "\n",
    "Here we search for a configuration for 300 seconds with 60-100 s time for fitting each individual configuration.\n",
    "Use the *validation_split* parameter to specify a split size. You can also pass your own validation set\n",
    "via *X_val* and *Y_val*. Use *log_level=\"info\"* or *log_level=\"debug\"* for more detailed output."
   ]
  },
  {
   "cell_type": "code",
   "execution_count": 8,
   "metadata": {},
   "outputs": [
    {
     "name": "stdout",
     "output_type": "stream",
     "text": [
      "Configuration space object:\n",
      "  Hyperparameters:\n",
      "    convnet_customize:conv_init_filters, Type: UniformInteger, Range: [8, 64], Default: 36\n",
      "    convnet_customize:conv_second_filters, Type: UniformInteger, Range: [8, 64], Default: 36\n",
      "    convnet_customize:conv_third_filters, Type: UniformInteger, Range: [8, 64], Default: 36\n",
      "    network, Type: Categorical, Choices: {convnet_customize}, Default: convnet_customize\n",
      "  Conditions:\n",
      "    convnet_customize:conv_init_filters | network == 'convnet_customize'\n",
      "    convnet_customize:conv_second_filters | network == 'convnet_customize'\n",
      "    convnet_customize:conv_third_filters | network == 'convnet_customize'\n",
      "\n"
     ]
    },
    {
     "name": "stderr",
     "output_type": "stream",
     "text": [
      "23:15:30 job (0, 0, 0) failed with exception\n",
      "Traceback (most recent call last):\n",
      "  File \"/home/l/liny/anaconda3/envs/automl/lib/python3.7/site-packages/hpbandster/core/worker.py\", line 206, in start_computation\n",
      "    result = {'result': self.compute(*args, config_id=id, **kwargs),\n",
      "  File \"/home/l/liny/anaconda3/envs/automl/lib/python3.7/site-packages/autoPyTorch-0.0.2-py3.7.egg/autoPyTorch/core/worker_no_timelimit.py\", line 72, in compute\n",
      "    result, randomstate = self.optimize_pipeline(config, budget, config_id, random.getstate())\n",
      "  File \"/home/l/liny/anaconda3/envs/automl/lib/python3.7/site-packages/autoPyTorch-0.0.2-py3.7.egg/autoPyTorch/core/worker_no_timelimit.py\", line 125, in optimize_pipeline\n",
      "    raise e\n",
      "  File \"/home/l/liny/anaconda3/envs/automl/lib/python3.7/site-packages/autoPyTorch-0.0.2-py3.7.egg/autoPyTorch/core/worker_no_timelimit.py\", line 119, in optimize_pipeline\n",
      "    config_id=config_id, working_directory=self.working_directory), random.getstate()\n",
      "  File \"/home/l/liny/anaconda3/envs/automl/lib/python3.7/site-packages/autoPyTorch-0.0.2-py3.7.egg/autoPyTorch/pipeline/base/pipeline.py\", line 60, in fit_pipeline\n",
      "    return self.root.fit_traverse(**kwargs)\n",
      "  File \"/home/l/liny/anaconda3/envs/automl/lib/python3.7/site-packages/autoPyTorch-0.0.2-py3.7.egg/autoPyTorch/pipeline/base/node.py\", line 115, in fit_traverse\n",
      "    node.fit_output = node.fit(**required_kwargs)\n",
      "  File \"/home/l/liny/anaconda3/envs/automl/lib/python3.7/site-packages/autoPyTorch-0.0.2-py3.7.egg/autoPyTorch/pipeline/nodes/image/single_dataset.py\", line 21, in fit\n",
      "    budget=budget, budget_type=budget_type, config_id=config_id, working_directory=working_directory)\n",
      "  File \"/home/l/liny/anaconda3/envs/automl/lib/python3.7/site-packages/autoPyTorch-0.0.2-py3.7.egg/autoPyTorch/pipeline/base/pipeline.py\", line 60, in fit_pipeline\n",
      "    return self.root.fit_traverse(**kwargs)\n",
      "  File \"/home/l/liny/anaconda3/envs/automl/lib/python3.7/site-packages/autoPyTorch-0.0.2-py3.7.egg/autoPyTorch/pipeline/base/node.py\", line 115, in fit_traverse\n",
      "    node.fit_output = node.fit(**required_kwargs)\n",
      "  File \"/home/l/liny/anaconda3/envs/automl/lib/python3.7/site-packages/autoPyTorch-0.0.2-py3.7.egg/autoPyTorch/pipeline/nodes/image/cross_validation_indices.py\", line 144, in fit\n",
      "    working_directory=working_directory)\n",
      "  File \"/home/l/liny/anaconda3/envs/automl/lib/python3.7/site-packages/autoPyTorch-0.0.2-py3.7.egg/autoPyTorch/pipeline/base/pipeline.py\", line 60, in fit_pipeline\n",
      "    return self.root.fit_traverse(**kwargs)\n",
      "  File \"/home/l/liny/anaconda3/envs/automl/lib/python3.7/site-packages/autoPyTorch-0.0.2-py3.7.egg/autoPyTorch/pipeline/base/node.py\", line 115, in fit_traverse\n",
      "    node.fit_output = node.fit(**required_kwargs)\n",
      "  File \"/home/l/liny/anaconda3/envs/automl/lib/python3.7/site-packages/autoPyTorch-0.0.2-py3.7.egg/autoPyTorch/pipeline/nodes/image/network_selector_datasetinfo.py\", line 33, in fit\n",
      "    final_activation=activation)\n",
      "  File \"/home/l/liny/anaconda3/envs/automl/lib/python3.7/site-packages/autoPyTorch-0.0.2-py3.7.egg/autoPyTorch/components/networks/image/convnet_customize.py\", line 23, in __init__\n",
      "    self.layers, self.last_layers = self._build_net(self.n_classes)\n",
      "  File \"/home/l/liny/anaconda3/envs/automl/lib/python3.7/site-packages/autoPyTorch-0.0.2-py3.7.egg/autoPyTorch/components/networks/image/convnet_customize.py\", line 36, in _build_net\n",
      "    init_filter = self.config[\"conv_init_filters\"]\n",
      "  File \"/home/l/liny/anaconda3/envs/automl/lib/python3.7/site-packages/autoPyTorch-0.0.2-py3.7.egg/autoPyTorch/utils/configspace_wrapper.py\", line 25, in __getitem__\n",
      "    return self.config[self.config_prefix + key]\n",
      "  File \"/home/l/liny/anaconda3/envs/automl/lib/python3.7/site-packages/autoPyTorch-0.0.2-py3.7.egg/autoPyTorch/utils/configspace_wrapper.py\", line 25, in __getitem__\n",
      "    return self.config[self.config_prefix + key]\n",
      "KeyError: 'NetworkSelectorDatasetInfo:convnet_customize:conv_init_filters'\n",
      "\n"
     ]
    },
    {
     "name": "stdout",
     "output_type": "stream",
     "text": [
      "{'CreateImageDataLoader:batch_size': 91, 'ImageAugmentation:augment': True, 'ImageAugmentation:cutout': True, 'SimpleLearningrateSchedulerSelector:lr_scheduler': 'step', 'SimpleTrainNode:batch_loss_computation_technique': 'mixup', 'ImageAugmentation:autoaugment': False, 'ImageAugmentation:cutout_holes': 3, 'ImageAugmentation:fastautoaugment': True, 'ImageAugmentation:length': 3, 'SimpleLearningrateSchedulerSelector:step:gamma': 0.18228937531801634, 'SimpleLearningrateSchedulerSelector:step:step_size': 5, 'SimpleTrainNode:mixup:alpha': 0.780111187598316, 'LossModuleSelectorIndices:loss_module': 'cross_entropy', 'NetworkSelectorDatasetInfo:network': 'convnet_customize', 'OptimizerSelector:optimizer': 'sgd', 'SimpleLearningrateSchedulerSelector:cosine_annealing:eta_min': 1e-08}\n",
      "<autoPyTorch.utils.configspace_wrapper.ConfigWrapper object at 0x7fb3b19caf50>\n",
      "{'CreateImageDataLoader:batch_size': 91,\n",
      " 'ImageAugmentation:augment': True,\n",
      " 'ImageAugmentation:autoaugment': False,\n",
      " 'ImageAugmentation:cutout': True,\n",
      " 'ImageAugmentation:cutout_holes': 3,\n",
      " 'ImageAugmentation:fastautoaugment': True,\n",
      " 'ImageAugmentation:length': 3,\n",
      " 'LossModuleSelectorIndices:loss_module': 'cross_entropy',\n",
      " 'NetworkSelectorDatasetInfo:network': 'convnet_customize',\n",
      " 'OptimizerSelector:optimizer': 'sgd',\n",
      " 'SimpleLearningrateSchedulerSelector:cosine_annealing:eta_min': 1e-08,\n",
      " 'SimpleLearningrateSchedulerSelector:lr_scheduler': 'step',\n",
      " 'SimpleLearningrateSchedulerSelector:step:gamma': 0.18228937531801634,\n",
      " 'SimpleLearningrateSchedulerSelector:step:step_size': 5,\n",
      " 'SimpleTrainNode:batch_loss_computation_technique': 'mixup',\n",
      " 'SimpleTrainNode:mixup:alpha': 0.780111187598316}\n",
      "{'CreateImageDataLoader:batch_size': 45, 'ImageAugmentation:augment': False, 'ImageAugmentation:cutout': True, 'SimpleLearningrateSchedulerSelector:lr_scheduler': 'step', 'SimpleTrainNode:batch_loss_computation_technique': 'standard', 'ImageAugmentation:cutout_holes': 1, 'ImageAugmentation:length': 2, 'SimpleLearningrateSchedulerSelector:step:gamma': 0.11608477730395814, 'SimpleLearningrateSchedulerSelector:step:step_size': 1, 'LossModuleSelectorIndices:loss_module': 'cross_entropy', 'NetworkSelectorDatasetInfo:network': 'convnet_customize', 'OptimizerSelector:optimizer': 'sgd', 'SimpleLearningrateSchedulerSelector:cosine_annealing:eta_min': 1e-08}\n",
      "<autoPyTorch.utils.configspace_wrapper.ConfigWrapper object at 0x7fb3b18ee250>\n",
      "{'CreateImageDataLoader:batch_size': 45,\n",
      " 'ImageAugmentation:augment': False,\n",
      " 'ImageAugmentation:cutout': True,\n",
      " 'ImageAugmentation:cutout_holes': 1,\n",
      " 'ImageAugmentation:length': 2,\n",
      " 'LossModuleSelectorIndices:loss_module': 'cross_entropy',\n",
      " 'NetworkSelectorDatasetInfo:network': 'convnet_customize',\n",
      " 'OptimizerSelector:optimizer': 'sgd',\n",
      " 'SimpleLearningrateSchedulerSelector:cosine_annealing:eta_min': 1e-08,\n",
      " 'SimpleLearningrateSchedulerSelector:lr_scheduler': 'step',\n",
      " 'SimpleLearningrateSchedulerSelector:step:gamma': 0.11608477730395814,\n",
      " 'SimpleLearningrateSchedulerSelector:step:step_size': 1,\n",
      " 'SimpleTrainNode:batch_loss_computation_technique': 'standard'}\n"
     ]
    },
    {
     "name": "stderr",
     "output_type": "stream",
     "text": [
      "23:15:31 job (1, 0, 0) failed with exception\n",
      "Traceback (most recent call last):\n",
      "  File \"/home/l/liny/anaconda3/envs/automl/lib/python3.7/site-packages/hpbandster/core/worker.py\", line 206, in start_computation\n",
      "    result = {'result': self.compute(*args, config_id=id, **kwargs),\n",
      "  File \"/home/l/liny/anaconda3/envs/automl/lib/python3.7/site-packages/autoPyTorch-0.0.2-py3.7.egg/autoPyTorch/core/worker_no_timelimit.py\", line 72, in compute\n",
      "    result, randomstate = self.optimize_pipeline(config, budget, config_id, random.getstate())\n",
      "  File \"/home/l/liny/anaconda3/envs/automl/lib/python3.7/site-packages/autoPyTorch-0.0.2-py3.7.egg/autoPyTorch/core/worker_no_timelimit.py\", line 125, in optimize_pipeline\n",
      "    raise e\n",
      "  File \"/home/l/liny/anaconda3/envs/automl/lib/python3.7/site-packages/autoPyTorch-0.0.2-py3.7.egg/autoPyTorch/core/worker_no_timelimit.py\", line 119, in optimize_pipeline\n",
      "    config_id=config_id, working_directory=self.working_directory), random.getstate()\n",
      "  File \"/home/l/liny/anaconda3/envs/automl/lib/python3.7/site-packages/autoPyTorch-0.0.2-py3.7.egg/autoPyTorch/pipeline/base/pipeline.py\", line 60, in fit_pipeline\n",
      "    return self.root.fit_traverse(**kwargs)\n",
      "  File \"/home/l/liny/anaconda3/envs/automl/lib/python3.7/site-packages/autoPyTorch-0.0.2-py3.7.egg/autoPyTorch/pipeline/base/node.py\", line 115, in fit_traverse\n",
      "    node.fit_output = node.fit(**required_kwargs)\n",
      "  File \"/home/l/liny/anaconda3/envs/automl/lib/python3.7/site-packages/autoPyTorch-0.0.2-py3.7.egg/autoPyTorch/pipeline/nodes/image/single_dataset.py\", line 21, in fit\n",
      "    budget=budget, budget_type=budget_type, config_id=config_id, working_directory=working_directory)\n",
      "  File \"/home/l/liny/anaconda3/envs/automl/lib/python3.7/site-packages/autoPyTorch-0.0.2-py3.7.egg/autoPyTorch/pipeline/base/pipeline.py\", line 60, in fit_pipeline\n",
      "    return self.root.fit_traverse(**kwargs)\n",
      "  File \"/home/l/liny/anaconda3/envs/automl/lib/python3.7/site-packages/autoPyTorch-0.0.2-py3.7.egg/autoPyTorch/pipeline/base/node.py\", line 115, in fit_traverse\n",
      "    node.fit_output = node.fit(**required_kwargs)\n",
      "  File \"/home/l/liny/anaconda3/envs/automl/lib/python3.7/site-packages/autoPyTorch-0.0.2-py3.7.egg/autoPyTorch/pipeline/nodes/image/cross_validation_indices.py\", line 144, in fit\n",
      "    working_directory=working_directory)\n",
      "  File \"/home/l/liny/anaconda3/envs/automl/lib/python3.7/site-packages/autoPyTorch-0.0.2-py3.7.egg/autoPyTorch/pipeline/base/pipeline.py\", line 60, in fit_pipeline\n",
      "    return self.root.fit_traverse(**kwargs)\n",
      "  File \"/home/l/liny/anaconda3/envs/automl/lib/python3.7/site-packages/autoPyTorch-0.0.2-py3.7.egg/autoPyTorch/pipeline/base/node.py\", line 115, in fit_traverse\n",
      "    node.fit_output = node.fit(**required_kwargs)\n",
      "  File \"/home/l/liny/anaconda3/envs/automl/lib/python3.7/site-packages/autoPyTorch-0.0.2-py3.7.egg/autoPyTorch/pipeline/nodes/image/network_selector_datasetinfo.py\", line 33, in fit\n",
      "    final_activation=activation)\n",
      "  File \"/home/l/liny/anaconda3/envs/automl/lib/python3.7/site-packages/autoPyTorch-0.0.2-py3.7.egg/autoPyTorch/components/networks/image/convnet_customize.py\", line 23, in __init__\n",
      "    self.layers, self.last_layers = self._build_net(self.n_classes)\n",
      "  File \"/home/l/liny/anaconda3/envs/automl/lib/python3.7/site-packages/autoPyTorch-0.0.2-py3.7.egg/autoPyTorch/components/networks/image/convnet_customize.py\", line 36, in _build_net\n",
      "    init_filter = self.config[\"conv_init_filters\"]\n",
      "  File \"/home/l/liny/anaconda3/envs/automl/lib/python3.7/site-packages/autoPyTorch-0.0.2-py3.7.egg/autoPyTorch/utils/configspace_wrapper.py\", line 25, in __getitem__\n",
      "    return self.config[self.config_prefix + key]\n",
      "  File \"/home/l/liny/anaconda3/envs/automl/lib/python3.7/site-packages/autoPyTorch-0.0.2-py3.7.egg/autoPyTorch/utils/configspace_wrapper.py\", line 25, in __getitem__\n",
      "    return self.config[self.config_prefix + key]\n",
      "KeyError: 'NetworkSelectorDatasetInfo:convnet_customize:conv_init_filters'\n",
      "\n",
      "23:15:32 job (2, 0, 0) failed with exception\n",
      "Traceback (most recent call last):\n",
      "  File \"/home/l/liny/anaconda3/envs/automl/lib/python3.7/site-packages/hpbandster/core/worker.py\", line 206, in start_computation\n",
      "    result = {'result': self.compute(*args, config_id=id, **kwargs),\n",
      "  File \"/home/l/liny/anaconda3/envs/automl/lib/python3.7/site-packages/autoPyTorch-0.0.2-py3.7.egg/autoPyTorch/core/worker_no_timelimit.py\", line 72, in compute\n",
      "    result, randomstate = self.optimize_pipeline(config, budget, config_id, random.getstate())\n",
      "  File \"/home/l/liny/anaconda3/envs/automl/lib/python3.7/site-packages/autoPyTorch-0.0.2-py3.7.egg/autoPyTorch/core/worker_no_timelimit.py\", line 125, in optimize_pipeline\n",
      "    raise e\n",
      "  File \"/home/l/liny/anaconda3/envs/automl/lib/python3.7/site-packages/autoPyTorch-0.0.2-py3.7.egg/autoPyTorch/core/worker_no_timelimit.py\", line 119, in optimize_pipeline\n",
      "    config_id=config_id, working_directory=self.working_directory), random.getstate()\n",
      "  File \"/home/l/liny/anaconda3/envs/automl/lib/python3.7/site-packages/autoPyTorch-0.0.2-py3.7.egg/autoPyTorch/pipeline/base/pipeline.py\", line 60, in fit_pipeline\n",
      "    return self.root.fit_traverse(**kwargs)\n",
      "  File \"/home/l/liny/anaconda3/envs/automl/lib/python3.7/site-packages/autoPyTorch-0.0.2-py3.7.egg/autoPyTorch/pipeline/base/node.py\", line 115, in fit_traverse\n",
      "    node.fit_output = node.fit(**required_kwargs)\n",
      "  File \"/home/l/liny/anaconda3/envs/automl/lib/python3.7/site-packages/autoPyTorch-0.0.2-py3.7.egg/autoPyTorch/pipeline/nodes/image/single_dataset.py\", line 21, in fit\n",
      "    budget=budget, budget_type=budget_type, config_id=config_id, working_directory=working_directory)\n",
      "  File \"/home/l/liny/anaconda3/envs/automl/lib/python3.7/site-packages/autoPyTorch-0.0.2-py3.7.egg/autoPyTorch/pipeline/base/pipeline.py\", line 60, in fit_pipeline\n",
      "    return self.root.fit_traverse(**kwargs)\n",
      "  File \"/home/l/liny/anaconda3/envs/automl/lib/python3.7/site-packages/autoPyTorch-0.0.2-py3.7.egg/autoPyTorch/pipeline/base/node.py\", line 115, in fit_traverse\n",
      "    node.fit_output = node.fit(**required_kwargs)\n",
      "  File \"/home/l/liny/anaconda3/envs/automl/lib/python3.7/site-packages/autoPyTorch-0.0.2-py3.7.egg/autoPyTorch/pipeline/nodes/image/cross_validation_indices.py\", line 144, in fit\n",
      "    working_directory=working_directory)\n",
      "  File \"/home/l/liny/anaconda3/envs/automl/lib/python3.7/site-packages/autoPyTorch-0.0.2-py3.7.egg/autoPyTorch/pipeline/base/pipeline.py\", line 60, in fit_pipeline\n",
      "    return self.root.fit_traverse(**kwargs)\n",
      "  File \"/home/l/liny/anaconda3/envs/automl/lib/python3.7/site-packages/autoPyTorch-0.0.2-py3.7.egg/autoPyTorch/pipeline/base/node.py\", line 115, in fit_traverse\n",
      "    node.fit_output = node.fit(**required_kwargs)\n",
      "  File \"/home/l/liny/anaconda3/envs/automl/lib/python3.7/site-packages/autoPyTorch-0.0.2-py3.7.egg/autoPyTorch/pipeline/nodes/image/network_selector_datasetinfo.py\", line 33, in fit\n",
      "    final_activation=activation)\n",
      "  File \"/home/l/liny/anaconda3/envs/automl/lib/python3.7/site-packages/autoPyTorch-0.0.2-py3.7.egg/autoPyTorch/components/networks/image/convnet_customize.py\", line 23, in __init__\n",
      "    self.layers, self.last_layers = self._build_net(self.n_classes)\n",
      "  File \"/home/l/liny/anaconda3/envs/automl/lib/python3.7/site-packages/autoPyTorch-0.0.2-py3.7.egg/autoPyTorch/components/networks/image/convnet_customize.py\", line 36, in _build_net\n",
      "    init_filter = self.config[\"conv_init_filters\"]\n",
      "  File \"/home/l/liny/anaconda3/envs/automl/lib/python3.7/site-packages/autoPyTorch-0.0.2-py3.7.egg/autoPyTorch/utils/configspace_wrapper.py\", line 25, in __getitem__\n",
      "    return self.config[self.config_prefix + key]\n",
      "  File \"/home/l/liny/anaconda3/envs/automl/lib/python3.7/site-packages/autoPyTorch-0.0.2-py3.7.egg/autoPyTorch/utils/configspace_wrapper.py\", line 25, in __getitem__\n",
      "    return self.config[self.config_prefix + key]\n",
      "KeyError: 'NetworkSelectorDatasetInfo:convnet_customize:conv_init_filters'\n",
      "\n"
     ]
    },
    {
     "name": "stdout",
     "output_type": "stream",
     "text": [
      "{'CreateImageDataLoader:batch_size': 43, 'ImageAugmentation:augment': False, 'ImageAugmentation:cutout': True, 'SimpleLearningrateSchedulerSelector:lr_scheduler': 'cosine_annealing', 'SimpleTrainNode:batch_loss_computation_technique': 'standard', 'ImageAugmentation:cutout_holes': 1, 'ImageAugmentation:length': 15, 'SimpleLearningrateSchedulerSelector:cosine_annealing:T_max': 359, 'LossModuleSelectorIndices:loss_module': 'cross_entropy', 'NetworkSelectorDatasetInfo:network': 'convnet_customize', 'OptimizerSelector:optimizer': 'sgd', 'SimpleLearningrateSchedulerSelector:cosine_annealing:eta_min': 1e-08}\n",
      "<autoPyTorch.utils.configspace_wrapper.ConfigWrapper object at 0x7fb3a0695c10>\n",
      "{'CreateImageDataLoader:batch_size': 43,\n",
      " 'ImageAugmentation:augment': False,\n",
      " 'ImageAugmentation:cutout': True,\n",
      " 'ImageAugmentation:cutout_holes': 1,\n",
      " 'ImageAugmentation:length': 15,\n",
      " 'LossModuleSelectorIndices:loss_module': 'cross_entropy',\n",
      " 'NetworkSelectorDatasetInfo:network': 'convnet_customize',\n",
      " 'OptimizerSelector:optimizer': 'sgd',\n",
      " 'SimpleLearningrateSchedulerSelector:cosine_annealing:T_max': 359,\n",
      " 'SimpleLearningrateSchedulerSelector:cosine_annealing:eta_min': 1e-08,\n",
      " 'SimpleLearningrateSchedulerSelector:lr_scheduler': 'cosine_annealing',\n",
      " 'SimpleTrainNode:batch_loss_computation_technique': 'standard'}\n"
     ]
    },
    {
     "name": "stderr",
     "output_type": "stream",
     "text": [
      "23:15:33 job (3, 0, 0) failed with exception\n",
      "Traceback (most recent call last):\n",
      "  File \"/home/l/liny/anaconda3/envs/automl/lib/python3.7/site-packages/hpbandster/core/worker.py\", line 206, in start_computation\n",
      "    result = {'result': self.compute(*args, config_id=id, **kwargs),\n",
      "  File \"/home/l/liny/anaconda3/envs/automl/lib/python3.7/site-packages/autoPyTorch-0.0.2-py3.7.egg/autoPyTorch/core/worker_no_timelimit.py\", line 72, in compute\n",
      "    result, randomstate = self.optimize_pipeline(config, budget, config_id, random.getstate())\n",
      "  File \"/home/l/liny/anaconda3/envs/automl/lib/python3.7/site-packages/autoPyTorch-0.0.2-py3.7.egg/autoPyTorch/core/worker_no_timelimit.py\", line 125, in optimize_pipeline\n",
      "    raise e\n",
      "  File \"/home/l/liny/anaconda3/envs/automl/lib/python3.7/site-packages/autoPyTorch-0.0.2-py3.7.egg/autoPyTorch/core/worker_no_timelimit.py\", line 119, in optimize_pipeline\n",
      "    config_id=config_id, working_directory=self.working_directory), random.getstate()\n",
      "  File \"/home/l/liny/anaconda3/envs/automl/lib/python3.7/site-packages/autoPyTorch-0.0.2-py3.7.egg/autoPyTorch/pipeline/base/pipeline.py\", line 60, in fit_pipeline\n",
      "    return self.root.fit_traverse(**kwargs)\n",
      "  File \"/home/l/liny/anaconda3/envs/automl/lib/python3.7/site-packages/autoPyTorch-0.0.2-py3.7.egg/autoPyTorch/pipeline/base/node.py\", line 115, in fit_traverse\n",
      "    node.fit_output = node.fit(**required_kwargs)\n",
      "  File \"/home/l/liny/anaconda3/envs/automl/lib/python3.7/site-packages/autoPyTorch-0.0.2-py3.7.egg/autoPyTorch/pipeline/nodes/image/single_dataset.py\", line 21, in fit\n",
      "    budget=budget, budget_type=budget_type, config_id=config_id, working_directory=working_directory)\n",
      "  File \"/home/l/liny/anaconda3/envs/automl/lib/python3.7/site-packages/autoPyTorch-0.0.2-py3.7.egg/autoPyTorch/pipeline/base/pipeline.py\", line 60, in fit_pipeline\n",
      "    return self.root.fit_traverse(**kwargs)\n",
      "  File \"/home/l/liny/anaconda3/envs/automl/lib/python3.7/site-packages/autoPyTorch-0.0.2-py3.7.egg/autoPyTorch/pipeline/base/node.py\", line 115, in fit_traverse\n",
      "    node.fit_output = node.fit(**required_kwargs)\n",
      "  File \"/home/l/liny/anaconda3/envs/automl/lib/python3.7/site-packages/autoPyTorch-0.0.2-py3.7.egg/autoPyTorch/pipeline/nodes/image/cross_validation_indices.py\", line 144, in fit\n",
      "    working_directory=working_directory)\n",
      "  File \"/home/l/liny/anaconda3/envs/automl/lib/python3.7/site-packages/autoPyTorch-0.0.2-py3.7.egg/autoPyTorch/pipeline/base/pipeline.py\", line 60, in fit_pipeline\n",
      "    return self.root.fit_traverse(**kwargs)\n",
      "  File \"/home/l/liny/anaconda3/envs/automl/lib/python3.7/site-packages/autoPyTorch-0.0.2-py3.7.egg/autoPyTorch/pipeline/base/node.py\", line 115, in fit_traverse\n",
      "    node.fit_output = node.fit(**required_kwargs)\n",
      "  File \"/home/l/liny/anaconda3/envs/automl/lib/python3.7/site-packages/autoPyTorch-0.0.2-py3.7.egg/autoPyTorch/pipeline/nodes/image/network_selector_datasetinfo.py\", line 33, in fit\n",
      "    final_activation=activation)\n",
      "  File \"/home/l/liny/anaconda3/envs/automl/lib/python3.7/site-packages/autoPyTorch-0.0.2-py3.7.egg/autoPyTorch/components/networks/image/convnet_customize.py\", line 23, in __init__\n",
      "    self.layers, self.last_layers = self._build_net(self.n_classes)\n",
      "  File \"/home/l/liny/anaconda3/envs/automl/lib/python3.7/site-packages/autoPyTorch-0.0.2-py3.7.egg/autoPyTorch/components/networks/image/convnet_customize.py\", line 36, in _build_net\n",
      "    init_filter = self.config[\"conv_init_filters\"]\n",
      "  File \"/home/l/liny/anaconda3/envs/automl/lib/python3.7/site-packages/autoPyTorch-0.0.2-py3.7.egg/autoPyTorch/utils/configspace_wrapper.py\", line 25, in __getitem__\n",
      "    return self.config[self.config_prefix + key]\n",
      "  File \"/home/l/liny/anaconda3/envs/automl/lib/python3.7/site-packages/autoPyTorch-0.0.2-py3.7.egg/autoPyTorch/utils/configspace_wrapper.py\", line 25, in __getitem__\n",
      "    return self.config[self.config_prefix + key]\n",
      "KeyError: 'NetworkSelectorDatasetInfo:convnet_customize:conv_init_filters'\n",
      "\n"
     ]
    },
    {
     "name": "stdout",
     "output_type": "stream",
     "text": [
      "{'CreateImageDataLoader:batch_size': 34, 'ImageAugmentation:augment': True, 'ImageAugmentation:cutout': False, 'SimpleLearningrateSchedulerSelector:lr_scheduler': 'step', 'SimpleTrainNode:batch_loss_computation_technique': 'standard', 'ImageAugmentation:autoaugment': True, 'ImageAugmentation:fastautoaugment': False, 'SimpleLearningrateSchedulerSelector:step:gamma': 0.1726047402704233, 'SimpleLearningrateSchedulerSelector:step:step_size': 8, 'LossModuleSelectorIndices:loss_module': 'cross_entropy', 'NetworkSelectorDatasetInfo:network': 'convnet_customize', 'OptimizerSelector:optimizer': 'sgd', 'SimpleLearningrateSchedulerSelector:cosine_annealing:eta_min': 1e-08}\n",
      "<autoPyTorch.utils.configspace_wrapper.ConfigWrapper object at 0x7fb3b18ee4d0>\n",
      "{'CreateImageDataLoader:batch_size': 34,\n",
      " 'ImageAugmentation:augment': True,\n",
      " 'ImageAugmentation:autoaugment': True,\n",
      " 'ImageAugmentation:cutout': False,\n",
      " 'ImageAugmentation:fastautoaugment': False,\n",
      " 'LossModuleSelectorIndices:loss_module': 'cross_entropy',\n",
      " 'NetworkSelectorDatasetInfo:network': 'convnet_customize',\n",
      " 'OptimizerSelector:optimizer': 'sgd',\n",
      " 'SimpleLearningrateSchedulerSelector:cosine_annealing:eta_min': 1e-08,\n",
      " 'SimpleLearningrateSchedulerSelector:lr_scheduler': 'step',\n",
      " 'SimpleLearningrateSchedulerSelector:step:gamma': 0.1726047402704233,\n",
      " 'SimpleLearningrateSchedulerSelector:step:step_size': 8,\n",
      " 'SimpleTrainNode:batch_loss_computation_technique': 'standard'}\n",
      "list index out of range\n"
     ]
    },
    {
     "name": "stderr",
     "output_type": "stream",
     "text": [
      "Traceback (most recent call last):\n",
      "  File \"/home/l/liny/anaconda3/envs/automl/lib/python3.7/site-packages/autoPyTorch-0.0.2-py3.7.egg/autoPyTorch/pipeline/nodes/image/optimization_algorithm_no_timelimit.py\", line 126, in fit\n",
      "    res = self.parse_results(pipeline_config[\"result_logger_dir\"])\n",
      "  File \"/home/l/liny/anaconda3/envs/automl/lib/python3.7/site-packages/autoPyTorch-0.0.2-py3.7.egg/autoPyTorch/pipeline/nodes/image/optimization_algorithm_no_timelimit.py\", line 235, in parse_results\n",
      "    incumbent_trajectory = res.get_incumbent_trajectory(bigger_is_better=False, non_decreasing_budget=False)\n",
      "  File \"/home/l/liny/anaconda3/envs/automl/lib/python3.7/site-packages/hpbandster/core/result.py\", line 310, in get_incumbent_trajectory\n",
      "    return_dict['config_ids'].append(return_dict['config_ids'][-1])\n",
      "IndexError: list index out of range\n"
     ]
    },
    {
     "ename": "RuntimeError",
     "evalue": "No models fit during training, please retry with a larger max_runtime.",
     "output_type": "error",
     "traceback": [
      "\u001b[0;31m---------------------------------------------------------------------------\u001b[0m",
      "\u001b[0;31mRuntimeError\u001b[0m                              Traceback (most recent call last)",
      "\u001b[0;32m<ipython-input-8-82bf508cd453>\u001b[0m in \u001b[0;36m<module>\u001b[0;34m\u001b[0m\n\u001b[1;32m      7\u001b[0m                                  \u001b[0mmax_runtime\u001b[0m\u001b[0;34m=\u001b[0m\u001b[0;36m1800\u001b[0m\u001b[0;34m,\u001b[0m\u001b[0;34m\u001b[0m\u001b[0;34m\u001b[0m\u001b[0m\n\u001b[1;32m      8\u001b[0m                                  \u001b[0mdefault_dataset_download_dir\u001b[0m\u001b[0;34m=\u001b[0m\u001b[0;34m\"./datasets\"\u001b[0m\u001b[0;34m,\u001b[0m\u001b[0;34m\u001b[0m\u001b[0;34m\u001b[0m\u001b[0m\n\u001b[0;32m----> 9\u001b[0;31m                                  images_root_folders=[\"./datasets\"])\n\u001b[0m",
      "\u001b[0;32m~/anaconda3/envs/automl/lib/python3.7/site-packages/autoPyTorch-0.0.2-py3.7.egg/autoPyTorch/core/api.py\u001b[0m in \u001b[0;36mfit\u001b[0;34m(self, X_train, Y_train, X_valid, Y_valid, refit, **autonet_config)\u001b[0m\n\u001b[1;32m    151\u001b[0m \u001b[0;34m\u001b[0m\u001b[0m\n\u001b[1;32m    152\u001b[0m         \u001b[0;32mif\u001b[0m \u001b[0;34m\"optimized_hyperparameter_config\"\u001b[0m \u001b[0;32mnot\u001b[0m \u001b[0;32min\u001b[0m \u001b[0mself\u001b[0m\u001b[0;34m.\u001b[0m\u001b[0mfit_result\u001b[0m\u001b[0;34m.\u001b[0m\u001b[0mkeys\u001b[0m\u001b[0;34m(\u001b[0m\u001b[0;34m)\u001b[0m \u001b[0;32mor\u001b[0m \u001b[0;32mnot\u001b[0m \u001b[0mself\u001b[0m\u001b[0;34m.\u001b[0m\u001b[0mfit_result\u001b[0m\u001b[0;34m[\u001b[0m\u001b[0;34m\"optimized_hyperparameter_config\"\u001b[0m\u001b[0;34m]\u001b[0m\u001b[0;34m:\u001b[0m \u001b[0;31m# MODIFY\u001b[0m\u001b[0;34m\u001b[0m\u001b[0;34m\u001b[0m\u001b[0m\n\u001b[0;32m--> 153\u001b[0;31m             \u001b[0;32mraise\u001b[0m \u001b[0mRuntimeError\u001b[0m\u001b[0;34m(\u001b[0m\u001b[0;34m\"No models fit during training, please retry with a larger max_runtime.\"\u001b[0m\u001b[0;34m)\u001b[0m\u001b[0;34m\u001b[0m\u001b[0;34m\u001b[0m\u001b[0m\n\u001b[0m\u001b[1;32m    154\u001b[0m \u001b[0;34m\u001b[0m\u001b[0m\n\u001b[1;32m    155\u001b[0m         \u001b[0;32mif\u001b[0m \u001b[0;34m(\u001b[0m\u001b[0mrefit\u001b[0m\u001b[0;34m)\u001b[0m\u001b[0;34m:\u001b[0m\u001b[0;34m\u001b[0m\u001b[0;34m\u001b[0m\u001b[0m\n",
      "\u001b[0;31mRuntimeError\u001b[0m: No models fit during training, please retry with a larger max_runtime."
     ]
    }
   ],
   "source": [
    "path_to_cifar_csv = os.path.abspath(\"../../datasets/CIFAR10.csv\")\n",
    "\n",
    "results_fit = autonet.fit(X_train=np.array([path_to_cifar_csv]),\n",
    "                                 Y_train=np.array([0]),\n",
    "                                 min_budget=1,\n",
    "                                 max_budget=2,\n",
    "                                 max_runtime=1800,\n",
    "                                 default_dataset_download_dir=\"./datasets\",\n",
    "                                 images_root_folders=[\"./datasets\"])"
   ]
  },
  {
   "cell_type": "markdown",
   "metadata": {},
   "source": [
    "***pred*** returns the predictions of the incumbent model. ***score*** can be used to evaluate the model on a test set. "
   ]
  },
  {
   "cell_type": "code",
   "execution_count": null,
   "metadata": {},
   "outputs": [],
   "source": [
    "# See how the random configuration performs (often it just predicts 0)\n",
    "score = autonet.score(X_test=X_test, Y_test=Y_test)\n",
    "pred = autonet.predict(X=X_test)\n",
    "\n",
    "print(\"Model prediction:\", pred[0:10])\n",
    "print(\"Accuracy score\", score)"
   ]
  },
  {
   "cell_type": "markdown",
   "metadata": {},
   "source": [
    "Finally, you can also get the incumbent model as PyTorch Sequential model via"
   ]
  },
  {
   "cell_type": "code",
   "execution_count": null,
   "metadata": {
    "scrolled": false
   },
   "outputs": [],
   "source": [
    "pytorch_model = autonet.get_pytorch_model()\n",
    "print(pytorch_model)"
   ]
  }
 ],
 "metadata": {
  "kernelspec": {
   "display_name": "Python 3",
   "language": "python",
   "name": "python3"
  },
  "language_info": {
   "codemirror_mode": {
    "name": "ipython",
    "version": 3
   },
   "file_extension": ".py",
   "mimetype": "text/x-python",
   "name": "python",
   "nbconvert_exporter": "python",
   "pygments_lexer": "ipython3",
   "version": "3.7.10"
  },
  "latex_envs": {
   "LaTeX_envs_menu_present": true,
   "autoclose": false,
   "autocomplete": true,
   "bibliofile": "biblio.bib",
   "cite_by": "apalike",
   "current_citInitial": 1,
   "eqLabelWithNumbers": true,
   "eqNumInitial": 1,
   "hotkeys": {
    "equation": "Ctrl-E",
    "itemize": "Ctrl-I"
   },
   "labels_anchors": false,
   "latex_user_defs": false,
   "report_style_numbering": false,
   "user_envs_cfg": false
  },
  "toc": {
   "base_numbering": 1,
   "nav_menu": {},
   "number_sections": true,
   "sideBar": true,
   "skip_h1_title": false,
   "title_cell": "Table of Contents",
   "title_sidebar": "Contents",
   "toc_cell": false,
   "toc_position": {},
   "toc_section_display": true,
   "toc_window_display": false
  },
  "varInspector": {
   "cols": {
    "lenName": 16,
    "lenType": 16,
    "lenVar": 40
   },
   "kernels_config": {
    "python": {
     "delete_cmd_postfix": "",
     "delete_cmd_prefix": "del ",
     "library": "var_list.py",
     "varRefreshCmd": "print(var_dic_list())"
    },
    "r": {
     "delete_cmd_postfix": ") ",
     "delete_cmd_prefix": "rm(",
     "library": "var_list.r",
     "varRefreshCmd": "cat(var_dic_list()) "
    }
   },
   "oldHeight": 391.9972891807556,
   "position": {
    "height": "413.7364196777344px",
    "left": "1185.5299072265625px",
    "right": "20px",
    "top": "132px",
    "width": "353.2608642578125px"
   },
   "types_to_exclude": [
    "module",
    "function",
    "builtin_function_or_method",
    "instance",
    "_Feature"
   ],
   "varInspector_section_display": "block",
   "window_display": false
  }
 },
 "nbformat": 4,
 "nbformat_minor": 2
}
